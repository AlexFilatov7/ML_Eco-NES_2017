{
 "cells": [
  {
   "cell_type": "markdown",
   "metadata": {},
   "source": [
    "# Семинар 3\n",
    "Сегодня речь пойдёт о метрике качества линейной регрессии, проверке обобщающей способности построенной модели, регуляризации и переборных алгоритмах. Семинар вокруг данных о социальных показателях американских муниципальных районов, которые будут использованы для предсказания количества жестоких преступлений на душу населения. Все признаки в датасете - числовые, в данных есть пропуски, но мы пока не обращаем внимания на эту проблему (заполним пропуски средними значениями признаков)."
   ]
  },
  {
   "cell_type": "markdown",
   "metadata": {
    "collapsed": true
   },
   "source": [
    "from sklearn.metrics import mean_squared_error as mse"
   ]
  },
  {
   "cell_type": "code",
   "execution_count": 1,
   "metadata": {
    "collapsed": false
   },
   "outputs": [],
   "source": [
    "# Не обращаем большого внимания на этот код, на него нет времени\n",
    "import numpy as np\n",
    "import pandas as pd\n",
    "#Загружаем датасет\n",
    "x = pd.read_csv('https://archive.ics.uci.edu/ml/machine-learning-databases/communities/communities.data',\n",
    "                header= None,na_values = '?')\n",
    "#Загружаем и парсим имена признаков\n",
    "import urllib\n",
    "text = urllib.request.urlopen('https://archive.ics.uci.edu/ml/machine-learning-databases/communities/communities.names')\n",
    "text = text.read()\n",
    "text = str(text)\n",
    "import re\n",
    "colnames = re.findall(r\"@attribute ([a-zA-Z1-90]*) [a-zA-Z]*\\\\n\",text)\n",
    "#Добавляем имена признаков\n",
    "x.columns = colnames\n",
    "#Создаём себе дополнительные проблемы, сортируем выборку по возрастанию целевой переменной\n",
    "#x = x.sort_values(by='ViolentCrimesPerPop')\n",
    "#Выкидываем лишние ненужные колонки\n",
    "x = x.drop(['state','county','community','communityname','fold'],1)\n",
    "#Заполняем все пропуски в данных средними значениями для каждого признака\n",
    "from sklearn import preprocessing\n",
    "mis_replacer = preprocessing.Imputer(strategy=\"mean\")\n",
    "x = pd.DataFrame(data=mis_replacer.fit_transform(x),columns=x.columns)\n",
    "#Выделяем вектор y в отдельную переменную \n",
    "y = x['ViolentCrimesPerPop']\n",
    "y = pd.DataFrame(y)\n",
    "x = x.drop(['ViolentCrimesPerPop'],1)\n",
    "#x = x.drop(['state','county','community','communityname','fold','ViolentCrimesPerPop','LemasSwFTPerPop'],1)\n",
    "colnames = x.columns"
   ]
  },
  {
   "cell_type": "markdown",
   "metadata": {},
   "source": [
    "Также мы изначально разобьем наши данные пополам и пока что будем работать только с одной половиной:"
   ]
  },
  {
   "cell_type": "code",
   "execution_count": 2,
   "metadata": {
    "collapsed": false
   },
   "outputs": [],
   "source": [
    "x_tr,y_tr = x.ix[:int(x.shape[0]/2)],y.ix[:int(x.shape[0]/2)]\n",
    "x_test,y_test = x.ix[int(x.shape[0]/2)+1:],y.ix[int(x.shape[0]/2)+1:]"
   ]
  },
  {
   "cell_type": "markdown",
   "metadata": {},
   "source": [
    "## Линейная регрессия из коробки\n",
    "\n",
    "На прошлом семинаре мы много внимания уделили тому, как находится оптимальный вектор весов для линейной регрессии. Сейчас же мы воспользуемся самым простым способом построить регрессию, используя готовые модели из sklearn. Запуская регрессию из коробки, необходимо читать, что [внутри](http://scikit-learn.org/stable/modules/generated/sklearn.linear_model.LinearRegression.html)."
   ]
  },
  {
   "cell_type": "code",
   "execution_count": 3,
   "metadata": {
    "collapsed": false
   },
   "outputs": [
    {
     "data": {
      "text/plain": [
       "LinearRegression(copy_X=True, fit_intercept=True, n_jobs=1, normalize=False)"
      ]
     },
     "execution_count": 3,
     "metadata": {},
     "output_type": "execute_result"
    }
   ],
   "source": [
    "#Импортируем класс из sklearn\n",
    "from sklearn.linear_model import LinearRegression\n",
    "\n",
    "lr = LinearRegression()\n",
    "#непосредсвенно строим регрессию\n",
    "lr.fit(x_tr,y_tr)\n",
    "#Готово!"
   ]
  },
  {
   "cell_type": "markdown",
   "metadata": {},
   "source": [
    "Сразу замечаем, что по умолчанию в число регрессоров будет включена и константа. С помощью методов класса, из нашей построенной регрессии можно получить вектор весов $w$:"
   ]
  },
  {
   "cell_type": "code",
   "execution_count": 4,
   "metadata": {
    "collapsed": false
   },
   "outputs": [
    {
     "data": {
      "text/html": [
       "<div>\n",
       "<table border=\"1\" class=\"dataframe\">\n",
       "  <thead>\n",
       "    <tr style=\"text-align: right;\">\n",
       "      <th></th>\n",
       "      <th>Имя признака</th>\n",
       "      <th>Вес признака</th>\n",
       "    </tr>\n",
       "  </thead>\n",
       "  <tbody>\n",
       "    <tr>\n",
       "      <th>0</th>\n",
       "      <td>population</td>\n",
       "      <td>0.536777</td>\n",
       "    </tr>\n",
       "    <tr>\n",
       "      <th>1</th>\n",
       "      <td>householdsize</td>\n",
       "      <td>-0.022001</td>\n",
       "    </tr>\n",
       "    <tr>\n",
       "      <th>2</th>\n",
       "      <td>racepctblack</td>\n",
       "      <td>0.259221</td>\n",
       "    </tr>\n",
       "    <tr>\n",
       "      <th>3</th>\n",
       "      <td>racePctWhite</td>\n",
       "      <td>-0.113908</td>\n",
       "    </tr>\n",
       "    <tr>\n",
       "      <th>4</th>\n",
       "      <td>racePctAsian</td>\n",
       "      <td>-0.032377</td>\n",
       "    </tr>\n",
       "    <tr>\n",
       "      <th>5</th>\n",
       "      <td>racePctHisp</td>\n",
       "      <td>0.067059</td>\n",
       "    </tr>\n",
       "    <tr>\n",
       "      <th>6</th>\n",
       "      <td>agePct12t21</td>\n",
       "      <td>0.000988</td>\n",
       "    </tr>\n",
       "    <tr>\n",
       "      <th>7</th>\n",
       "      <td>agePct12t29</td>\n",
       "      <td>-0.586161</td>\n",
       "    </tr>\n",
       "    <tr>\n",
       "      <th>8</th>\n",
       "      <td>agePct16t24</td>\n",
       "      <td>0.112966</td>\n",
       "    </tr>\n",
       "    <tr>\n",
       "      <th>9</th>\n",
       "      <td>agePct65up</td>\n",
       "      <td>-0.155960</td>\n",
       "    </tr>\n",
       "    <tr>\n",
       "      <th>10</th>\n",
       "      <td>numbUrban</td>\n",
       "      <td>-0.751070</td>\n",
       "    </tr>\n",
       "    <tr>\n",
       "      <th>11</th>\n",
       "      <td>pctUrban</td>\n",
       "      <td>0.076623</td>\n",
       "    </tr>\n",
       "    <tr>\n",
       "      <th>12</th>\n",
       "      <td>medIncome</td>\n",
       "      <td>-0.005061</td>\n",
       "    </tr>\n",
       "    <tr>\n",
       "      <th>13</th>\n",
       "      <td>pctWWage</td>\n",
       "      <td>-0.091227</td>\n",
       "    </tr>\n",
       "    <tr>\n",
       "      <th>14</th>\n",
       "      <td>pctWFarmSelf</td>\n",
       "      <td>0.068506</td>\n",
       "    </tr>\n",
       "    <tr>\n",
       "      <th>15</th>\n",
       "      <td>pctWInvInc</td>\n",
       "      <td>-0.211798</td>\n",
       "    </tr>\n",
       "    <tr>\n",
       "      <th>16</th>\n",
       "      <td>pctWSocSec</td>\n",
       "      <td>0.299487</td>\n",
       "    </tr>\n",
       "    <tr>\n",
       "      <th>17</th>\n",
       "      <td>pctWPubAsst</td>\n",
       "      <td>0.034160</td>\n",
       "    </tr>\n",
       "    <tr>\n",
       "      <th>18</th>\n",
       "      <td>pctWRetire</td>\n",
       "      <td>-0.157625</td>\n",
       "    </tr>\n",
       "    <tr>\n",
       "      <th>19</th>\n",
       "      <td>medFamInc</td>\n",
       "      <td>0.238310</td>\n",
       "    </tr>\n",
       "    <tr>\n",
       "      <th>20</th>\n",
       "      <td>perCapInc</td>\n",
       "      <td>0.303796</td>\n",
       "    </tr>\n",
       "    <tr>\n",
       "      <th>21</th>\n",
       "      <td>whitePerCap</td>\n",
       "      <td>-0.513258</td>\n",
       "    </tr>\n",
       "    <tr>\n",
       "      <th>22</th>\n",
       "      <td>blackPerCap</td>\n",
       "      <td>-0.057828</td>\n",
       "    </tr>\n",
       "    <tr>\n",
       "      <th>23</th>\n",
       "      <td>indianPerCap</td>\n",
       "      <td>-0.046136</td>\n",
       "    </tr>\n",
       "    <tr>\n",
       "      <th>24</th>\n",
       "      <td>AsianPerCap</td>\n",
       "      <td>0.010664</td>\n",
       "    </tr>\n",
       "    <tr>\n",
       "      <th>25</th>\n",
       "      <td>OtherPerCap</td>\n",
       "      <td>0.036065</td>\n",
       "    </tr>\n",
       "    <tr>\n",
       "      <th>26</th>\n",
       "      <td>HispPerCap</td>\n",
       "      <td>0.034922</td>\n",
       "    </tr>\n",
       "    <tr>\n",
       "      <th>27</th>\n",
       "      <td>NumUnderPov</td>\n",
       "      <td>-0.247834</td>\n",
       "    </tr>\n",
       "    <tr>\n",
       "      <th>28</th>\n",
       "      <td>PctPopUnderPov</td>\n",
       "      <td>-0.199923</td>\n",
       "    </tr>\n",
       "    <tr>\n",
       "      <th>29</th>\n",
       "      <td>PctLess9thGrade</td>\n",
       "      <td>-0.192342</td>\n",
       "    </tr>\n",
       "    <tr>\n",
       "      <th>...</th>\n",
       "      <td>...</td>\n",
       "      <td>...</td>\n",
       "    </tr>\n",
       "    <tr>\n",
       "      <th>92</th>\n",
       "      <td>PctBornSameState</td>\n",
       "      <td>0.051582</td>\n",
       "    </tr>\n",
       "    <tr>\n",
       "      <th>93</th>\n",
       "      <td>PctSameHouse85</td>\n",
       "      <td>0.026533</td>\n",
       "    </tr>\n",
       "    <tr>\n",
       "      <th>94</th>\n",
       "      <td>PctSameCity85</td>\n",
       "      <td>0.010311</td>\n",
       "    </tr>\n",
       "    <tr>\n",
       "      <th>95</th>\n",
       "      <td>PctSameState85</td>\n",
       "      <td>-0.027050</td>\n",
       "    </tr>\n",
       "    <tr>\n",
       "      <th>96</th>\n",
       "      <td>LemasSwornFT</td>\n",
       "      <td>0.041195</td>\n",
       "    </tr>\n",
       "    <tr>\n",
       "      <th>97</th>\n",
       "      <td>LemasSwFTPerPop</td>\n",
       "      <td>3734.656100</td>\n",
       "    </tr>\n",
       "    <tr>\n",
       "      <th>98</th>\n",
       "      <td>LemasSwFTFieldOps</td>\n",
       "      <td>1.096262</td>\n",
       "    </tr>\n",
       "    <tr>\n",
       "      <th>99</th>\n",
       "      <td>LemasSwFTFieldPerPop</td>\n",
       "      <td>0.605224</td>\n",
       "    </tr>\n",
       "    <tr>\n",
       "      <th>100</th>\n",
       "      <td>LemasTotalReq</td>\n",
       "      <td>-0.274058</td>\n",
       "    </tr>\n",
       "    <tr>\n",
       "      <th>101</th>\n",
       "      <td>LemasTotReqPerPop</td>\n",
       "      <td>-0.250757</td>\n",
       "    </tr>\n",
       "    <tr>\n",
       "      <th>102</th>\n",
       "      <td>PolicReqPerOffic</td>\n",
       "      <td>0.347853</td>\n",
       "    </tr>\n",
       "    <tr>\n",
       "      <th>103</th>\n",
       "      <td>PolicPerPop</td>\n",
       "      <td>-3735.168122</td>\n",
       "    </tr>\n",
       "    <tr>\n",
       "      <th>104</th>\n",
       "      <td>RacialMatchCommPol</td>\n",
       "      <td>-0.081162</td>\n",
       "    </tr>\n",
       "    <tr>\n",
       "      <th>105</th>\n",
       "      <td>PctPolicWhite</td>\n",
       "      <td>0.288334</td>\n",
       "    </tr>\n",
       "    <tr>\n",
       "      <th>106</th>\n",
       "      <td>PctPolicBlack</td>\n",
       "      <td>-0.257781</td>\n",
       "    </tr>\n",
       "    <tr>\n",
       "      <th>107</th>\n",
       "      <td>PctPolicHisp</td>\n",
       "      <td>-0.055345</td>\n",
       "    </tr>\n",
       "    <tr>\n",
       "      <th>108</th>\n",
       "      <td>PctPolicAsian</td>\n",
       "      <td>-0.037257</td>\n",
       "    </tr>\n",
       "    <tr>\n",
       "      <th>109</th>\n",
       "      <td>PctPolicMinor</td>\n",
       "      <td>0.452082</td>\n",
       "    </tr>\n",
       "    <tr>\n",
       "      <th>110</th>\n",
       "      <td>OfficAssgnDrugUnits</td>\n",
       "      <td>0.144662</td>\n",
       "    </tr>\n",
       "    <tr>\n",
       "      <th>111</th>\n",
       "      <td>NumKindsDrugsSeiz</td>\n",
       "      <td>0.006386</td>\n",
       "    </tr>\n",
       "    <tr>\n",
       "      <th>112</th>\n",
       "      <td>PolicAveOTWorked</td>\n",
       "      <td>-0.059322</td>\n",
       "    </tr>\n",
       "    <tr>\n",
       "      <th>113</th>\n",
       "      <td>LandArea</td>\n",
       "      <td>0.197890</td>\n",
       "    </tr>\n",
       "    <tr>\n",
       "      <th>114</th>\n",
       "      <td>PopDens</td>\n",
       "      <td>0.063116</td>\n",
       "    </tr>\n",
       "    <tr>\n",
       "      <th>115</th>\n",
       "      <td>PctUsePubTrans</td>\n",
       "      <td>-0.093854</td>\n",
       "    </tr>\n",
       "    <tr>\n",
       "      <th>116</th>\n",
       "      <td>PolicCars</td>\n",
       "      <td>0.440821</td>\n",
       "    </tr>\n",
       "    <tr>\n",
       "      <th>117</th>\n",
       "      <td>PolicOperBudg</td>\n",
       "      <td>0.845868</td>\n",
       "    </tr>\n",
       "    <tr>\n",
       "      <th>118</th>\n",
       "      <td>LemasPctPolicOnPatr</td>\n",
       "      <td>-0.045943</td>\n",
       "    </tr>\n",
       "    <tr>\n",
       "      <th>119</th>\n",
       "      <td>LemasGangUnitDeploy</td>\n",
       "      <td>0.055377</td>\n",
       "    </tr>\n",
       "    <tr>\n",
       "      <th>120</th>\n",
       "      <td>LemasPctOfficDrugUn</td>\n",
       "      <td>-0.117913</td>\n",
       "    </tr>\n",
       "    <tr>\n",
       "      <th>121</th>\n",
       "      <td>PolicBudgPerPop</td>\n",
       "      <td>0.036515</td>\n",
       "    </tr>\n",
       "  </tbody>\n",
       "</table>\n",
       "<p>122 rows × 2 columns</p>\n",
       "</div>"
      ],
      "text/plain": [
       "             Имя признака  Вес признака\n",
       "0              population      0.536777\n",
       "1           householdsize     -0.022001\n",
       "2            racepctblack      0.259221\n",
       "3            racePctWhite     -0.113908\n",
       "4            racePctAsian     -0.032377\n",
       "5             racePctHisp      0.067059\n",
       "6             agePct12t21      0.000988\n",
       "7             agePct12t29     -0.586161\n",
       "8             agePct16t24      0.112966\n",
       "9              agePct65up     -0.155960\n",
       "10              numbUrban     -0.751070\n",
       "11               pctUrban      0.076623\n",
       "12              medIncome     -0.005061\n",
       "13               pctWWage     -0.091227\n",
       "14           pctWFarmSelf      0.068506\n",
       "15             pctWInvInc     -0.211798\n",
       "16             pctWSocSec      0.299487\n",
       "17            pctWPubAsst      0.034160\n",
       "18             pctWRetire     -0.157625\n",
       "19              medFamInc      0.238310\n",
       "20              perCapInc      0.303796\n",
       "21            whitePerCap     -0.513258\n",
       "22            blackPerCap     -0.057828\n",
       "23           indianPerCap     -0.046136\n",
       "24            AsianPerCap      0.010664\n",
       "25            OtherPerCap      0.036065\n",
       "26             HispPerCap      0.034922\n",
       "27            NumUnderPov     -0.247834\n",
       "28         PctPopUnderPov     -0.199923\n",
       "29        PctLess9thGrade     -0.192342\n",
       "..                    ...           ...\n",
       "92       PctBornSameState      0.051582\n",
       "93         PctSameHouse85      0.026533\n",
       "94          PctSameCity85      0.010311\n",
       "95         PctSameState85     -0.027050\n",
       "96           LemasSwornFT      0.041195\n",
       "97        LemasSwFTPerPop   3734.656100\n",
       "98      LemasSwFTFieldOps      1.096262\n",
       "99   LemasSwFTFieldPerPop      0.605224\n",
       "100         LemasTotalReq     -0.274058\n",
       "101     LemasTotReqPerPop     -0.250757\n",
       "102      PolicReqPerOffic      0.347853\n",
       "103           PolicPerPop  -3735.168122\n",
       "104    RacialMatchCommPol     -0.081162\n",
       "105         PctPolicWhite      0.288334\n",
       "106         PctPolicBlack     -0.257781\n",
       "107          PctPolicHisp     -0.055345\n",
       "108         PctPolicAsian     -0.037257\n",
       "109         PctPolicMinor      0.452082\n",
       "110   OfficAssgnDrugUnits      0.144662\n",
       "111     NumKindsDrugsSeiz      0.006386\n",
       "112      PolicAveOTWorked     -0.059322\n",
       "113              LandArea      0.197890\n",
       "114               PopDens      0.063116\n",
       "115        PctUsePubTrans     -0.093854\n",
       "116             PolicCars      0.440821\n",
       "117         PolicOperBudg      0.845868\n",
       "118   LemasPctPolicOnPatr     -0.045943\n",
       "119   LemasGangUnitDeploy      0.055377\n",
       "120   LemasPctOfficDrugUn     -0.117913\n",
       "121       PolicBudgPerPop      0.036515\n",
       "\n",
       "[122 rows x 2 columns]"
      ]
     },
     "execution_count": 4,
     "metadata": {},
     "output_type": "execute_result"
    }
   ],
   "source": [
    "w = lr.coef_[0]\n",
    "w = pd.DataFrame({'Имя признака':colnames,'Вес признака':w},columns = ['Имя признака','Вес признака'])\n",
    "w"
   ]
  },
  {
   "cell_type": "markdown",
   "metadata": {},
   "source": [
    "Построим прогноз $a$ на основе нашей модели:"
   ]
  },
  {
   "cell_type": "code",
   "execution_count": 5,
   "metadata": {
    "collapsed": false
   },
   "outputs": [
    {
     "data": {
      "text/html": [
       "<div>\n",
       "<table border=\"1\" class=\"dataframe\">\n",
       "  <thead>\n",
       "    <tr style=\"text-align: right;\">\n",
       "      <th></th>\n",
       "      <th>prediction</th>\n",
       "    </tr>\n",
       "  </thead>\n",
       "  <tbody>\n",
       "    <tr>\n",
       "      <th>0</th>\n",
       "      <td>0.206635</td>\n",
       "    </tr>\n",
       "    <tr>\n",
       "      <th>1</th>\n",
       "      <td>0.269199</td>\n",
       "    </tr>\n",
       "    <tr>\n",
       "      <th>2</th>\n",
       "      <td>0.336777</td>\n",
       "    </tr>\n",
       "    <tr>\n",
       "      <th>3</th>\n",
       "      <td>0.380227</td>\n",
       "    </tr>\n",
       "    <tr>\n",
       "      <th>4</th>\n",
       "      <td>-0.020468</td>\n",
       "    </tr>\n",
       "  </tbody>\n",
       "</table>\n",
       "</div>"
      ],
      "text/plain": [
       "   prediction\n",
       "0    0.206635\n",
       "1    0.269199\n",
       "2    0.336777\n",
       "3    0.380227\n",
       "4   -0.020468"
      ]
     },
     "execution_count": 5,
     "metadata": {},
     "output_type": "execute_result"
    }
   ],
   "source": [
    "a = lr.predict(x_tr)\n",
    "a = pd.DataFrame(a,columns=['prediction'])\n",
    "# прогноз для первых нескольких объектов\n",
    "a.head()"
   ]
  },
  {
   "cell_type": "markdown",
   "metadata": {},
   "source": [
    "## $R^2$ - основная метрика качества регрессии"
   ]
  },
  {
   "cell_type": "markdown",
   "metadata": {},
   "source": [
    "Когда необходимо сравнить по качеству две разных линейных модели, то чаще всего для этого используют метрику $R^2$. Основное преимущество данной метрики: её значение может интерпретироваться. $R^2$ - это с некоторыми оговорками доля дисперсии, объяснённая моделью в общей дисперсии целевой переменной. Данный показатель принимает значения в диапазоне от 0 до 1. Чем он больше, тем лучше построенная модель предсказывает поведение целевой переменной.  \n",
    "\n",
    "$$R^2 = 1 - \\frac{\\sum_i (y_i - a(x_i))^2}{\\sum_i (y_i - \\overline{y}_i)^2} \\approx 1 - \\frac{\\text{Var} (Y|X)}{\\text{Var} Y}$$\n",
    "\n",
    "Теперь посчитаем $R^2$ для построенной нами регрессии:"
   ]
  },
  {
   "cell_type": "code",
   "execution_count": 6,
   "metadata": {
    "collapsed": false
   },
   "outputs": [
    {
     "name": "stdout",
     "output_type": "stream",
     "text": [
      "Первый способ: 0.706413\n",
      "Второй способ: 0.706413\n"
     ]
    }
   ],
   "source": [
    "#первый способ\n",
    "print('Первый способ: %f' %lr.score(x_tr,y_tr))\n",
    "#второй способ\n",
    "import sklearn.metrics as metrics\n",
    "print('Второй способ: %f' %metrics.r2_score(y_tr,a))"
   ]
  },
  {
   "cell_type": "code",
   "execution_count": 7,
   "metadata": {
    "collapsed": false
   },
   "outputs": [
    {
     "data": {
      "text/html": [
       "<div>\n",
       "<table border=\"1\" class=\"dataframe\">\n",
       "  <thead>\n",
       "    <tr style=\"text-align: right;\">\n",
       "      <th></th>\n",
       "      <th>prediction</th>\n",
       "    </tr>\n",
       "  </thead>\n",
       "  <tbody>\n",
       "    <tr>\n",
       "      <th>0</th>\n",
       "      <td>0.206635</td>\n",
       "    </tr>\n",
       "    <tr>\n",
       "      <th>1</th>\n",
       "      <td>0.269199</td>\n",
       "    </tr>\n",
       "    <tr>\n",
       "      <th>2</th>\n",
       "      <td>0.336777</td>\n",
       "    </tr>\n",
       "    <tr>\n",
       "      <th>3</th>\n",
       "      <td>0.380227</td>\n",
       "    </tr>\n",
       "    <tr>\n",
       "      <th>4</th>\n",
       "      <td>-0.020468</td>\n",
       "    </tr>\n",
       "  </tbody>\n",
       "</table>\n",
       "</div>"
      ],
      "text/plain": [
       "   prediction\n",
       "0    0.206635\n",
       "1    0.269199\n",
       "2    0.336777\n",
       "3    0.380227\n",
       "4   -0.020468"
      ]
     },
     "execution_count": 7,
     "metadata": {},
     "output_type": "execute_result"
    }
   ],
   "source": [
    "a = lr.predict(x_tr)\n",
    "a = pd.DataFrame(a,columns=['prediction'])\n",
    "# прогноз для первых нескольких объектов\n",
    "a.head()"
   ]
  },
  {
   "cell_type": "markdown",
   "metadata": {},
   "source": [
    "70% объяснённой дисперсии целевой переменной. Много это или мало - зависит от конкретной задачи и от наших субъективных ожиданий.  Если в структуре наших данных почти нет закономерностей и всё подвержено случайным событиям, то ни одна модель не сможет дать нам высокий $R^2$. В таком случае и 15% было бы неплохим результатом."
   ]
  },
  {
   "cell_type": "markdown",
   "metadata": {},
   "source": [
    "## Валидация - проверка обобщающей способности\n"
   ]
  },
  {
   "cell_type": "markdown",
   "metadata": {},
   "source": [
    "$R^2$, который приведён выше, посчитан на тех данных, на которых была построена регрессия. Но мы хотим, чтобы построенная модель успешно справлялась с прогнозами и на тех на данных, для которых ей неизвестно истинное значение целевой переменной, иначе практическая польза такой модели будет мала. Если модель способна выявить в данных какие-либо закономерности и обобщить их для данных, которые не использовались при её построении, то мы говорим, что она обладает обобщаюей способностью. Проверку обобщающей способности мы назовём валидацией. В конечном счёте, нас интересует $R^2$, который модель покажет на новых данных.\n",
    "\n",
    "Вспомним об отложенной нами выборке и воспользуемся ей для проверки обобщающей способности."
   ]
  },
  {
   "cell_type": "code",
   "execution_count": 8,
   "metadata": {
    "collapsed": false
   },
   "outputs": [
    {
     "name": "stdout",
     "output_type": "stream",
     "text": [
      "R2 на тестовой выборке: -27.348416\n"
     ]
    }
   ],
   "source": [
    "a_test = lr.predict(x_test)\n",
    "print('R2 на тестовой выборке: %f' %metrics.r2_score(y_test,a_test))"
   ]
  },
  {
   "cell_type": "markdown",
   "metadata": {},
   "source": [
    "### Подводные камни"
   ]
  },
  {
   "cell_type": "markdown",
   "metadata": {},
   "source": [
    "\"Oops... something went wrong...\": $R^2$ оказался отрицательным. Как это произошло? Обратим внимание на дробь:\n",
    "\n",
    "$$R^2 = 1 - \\frac{\\sum_i (y_i - a(x_i))^2}{\\sum_i (y_i - \\overline{y}_i)^2} \\approx 1 - \\frac{\\text{Var} (Y|X)}{\\text{Var} Y}$$\n",
    "\n",
    "В ней дисперсия целевой переменной при нашей модели сравнивается с обычной дисперсией. Обычную дисперсию можно представить как условную дисперсию целевой переменной в *\"базовой\"* модели, которая рисует горизонтальную прямую на уровне $\\bar{y}$. Выходит, что для регрессий, которые справляются с предсказанием хуже, чем базовая регрессия, зашитая прямо в формулу данной метрики, $R^2$ выдает отрицательный результат:"
   ]
  },
  {
   "cell_type": "markdown",
   "metadata": {},
   "source": [
    "![pictcha](https://raw.githubusercontent.com/FilatovArtm/ML_Eco-NES_2017/master/seminars/maintain/sem3picture.png)"
   ]
  },
  {
   "cell_type": "markdown",
   "metadata": {},
   "source": [
    "Таким образом, мы, решив провести валидацию, сразу поняли, что на новой выборке наша модель хуже, чем отсутствие модели вообще (прогноз $a(.)=\\bar{y}$ не требует данных для построения). Поэтому обобщающая способность нашей модели равна нулю. К счастью, проблему можно решить. Посмотрим на вектор $w$ ещё раз, при этом отсортировав:"
   ]
  },
  {
   "cell_type": "code",
   "execution_count": 9,
   "metadata": {
    "collapsed": false
   },
   "outputs": [
    {
     "data": {
      "text/html": [
       "<div>\n",
       "<table border=\"1\" class=\"dataframe\">\n",
       "  <thead>\n",
       "    <tr style=\"text-align: right;\">\n",
       "      <th></th>\n",
       "      <th>Имя признака</th>\n",
       "      <th>Вес признака</th>\n",
       "    </tr>\n",
       "  </thead>\n",
       "  <tbody>\n",
       "    <tr>\n",
       "      <th>103</th>\n",
       "      <td>PolicPerPop</td>\n",
       "      <td>-3735.168122</td>\n",
       "    </tr>\n",
       "    <tr>\n",
       "      <th>10</th>\n",
       "      <td>numbUrban</td>\n",
       "      <td>-0.751070</td>\n",
       "    </tr>\n",
       "    <tr>\n",
       "      <th>79</th>\n",
       "      <td>OwnOccLowQuart</td>\n",
       "      <td>-0.702989</td>\n",
       "    </tr>\n",
       "    <tr>\n",
       "      <th>7</th>\n",
       "      <td>agePct12t29</td>\n",
       "      <td>-0.586161</td>\n",
       "    </tr>\n",
       "    <tr>\n",
       "      <th>63</th>\n",
       "      <td>PctLargHouseOccup</td>\n",
       "      <td>-0.575794</td>\n",
       "    </tr>\n",
       "    <tr>\n",
       "      <th>21</th>\n",
       "      <td>whitePerCap</td>\n",
       "      <td>-0.513258</td>\n",
       "    </tr>\n",
       "    <tr>\n",
       "      <th>81</th>\n",
       "      <td>OwnOccHiQuart</td>\n",
       "      <td>-0.426227</td>\n",
       "    </tr>\n",
       "    <tr>\n",
       "      <th>65</th>\n",
       "      <td>PersPerOwnOccHous</td>\n",
       "      <td>-0.360409</td>\n",
       "    </tr>\n",
       "    <tr>\n",
       "      <th>51</th>\n",
       "      <td>NumImmig</td>\n",
       "      <td>-0.288987</td>\n",
       "    </tr>\n",
       "    <tr>\n",
       "      <th>100</th>\n",
       "      <td>LemasTotalReq</td>\n",
       "      <td>-0.274058</td>\n",
       "    </tr>\n",
       "    <tr>\n",
       "      <th>106</th>\n",
       "      <td>PctPolicBlack</td>\n",
       "      <td>-0.257781</td>\n",
       "    </tr>\n",
       "    <tr>\n",
       "      <th>101</th>\n",
       "      <td>LemasTotReqPerPop</td>\n",
       "      <td>-0.250757</td>\n",
       "    </tr>\n",
       "    <tr>\n",
       "      <th>27</th>\n",
       "      <td>NumUnderPov</td>\n",
       "      <td>-0.247834</td>\n",
       "    </tr>\n",
       "    <tr>\n",
       "      <th>56</th>\n",
       "      <td>PctRecentImmig</td>\n",
       "      <td>-0.233168</td>\n",
       "    </tr>\n",
       "    <tr>\n",
       "      <th>83</th>\n",
       "      <td>RentMedian</td>\n",
       "      <td>-0.221134</td>\n",
       "    </tr>\n",
       "    <tr>\n",
       "      <th>82</th>\n",
       "      <td>RentLowQ</td>\n",
       "      <td>-0.214602</td>\n",
       "    </tr>\n",
       "    <tr>\n",
       "      <th>61</th>\n",
       "      <td>PctNotSpeakEnglWell</td>\n",
       "      <td>-0.212158</td>\n",
       "    </tr>\n",
       "    <tr>\n",
       "      <th>15</th>\n",
       "      <td>pctWInvInc</td>\n",
       "      <td>-0.211798</td>\n",
       "    </tr>\n",
       "    <tr>\n",
       "      <th>48</th>\n",
       "      <td>PctWorkMom</td>\n",
       "      <td>-0.205789</td>\n",
       "    </tr>\n",
       "    <tr>\n",
       "      <th>28</th>\n",
       "      <td>PctPopUnderPov</td>\n",
       "      <td>-0.199923</td>\n",
       "    </tr>\n",
       "    <tr>\n",
       "      <th>43</th>\n",
       "      <td>PctFam2Par</td>\n",
       "      <td>-0.196206</td>\n",
       "    </tr>\n",
       "    <tr>\n",
       "      <th>29</th>\n",
       "      <td>PctLess9thGrade</td>\n",
       "      <td>-0.192342</td>\n",
       "    </tr>\n",
       "    <tr>\n",
       "      <th>40</th>\n",
       "      <td>FemalePctDiv</td>\n",
       "      <td>-0.171630</td>\n",
       "    </tr>\n",
       "    <tr>\n",
       "      <th>18</th>\n",
       "      <td>pctWRetire</td>\n",
       "      <td>-0.157625</td>\n",
       "    </tr>\n",
       "    <tr>\n",
       "      <th>9</th>\n",
       "      <td>agePct65up</td>\n",
       "      <td>-0.155960</td>\n",
       "    </tr>\n",
       "    <tr>\n",
       "      <th>67</th>\n",
       "      <td>PctPersOwnOccup</td>\n",
       "      <td>-0.144793</td>\n",
       "    </tr>\n",
       "    <tr>\n",
       "      <th>42</th>\n",
       "      <td>PersPerFam</td>\n",
       "      <td>-0.138592</td>\n",
       "    </tr>\n",
       "    <tr>\n",
       "      <th>120</th>\n",
       "      <td>LemasPctOfficDrugUn</td>\n",
       "      <td>-0.117913</td>\n",
       "    </tr>\n",
       "    <tr>\n",
       "      <th>3</th>\n",
       "      <td>racePctWhite</td>\n",
       "      <td>-0.113908</td>\n",
       "    </tr>\n",
       "    <tr>\n",
       "      <th>66</th>\n",
       "      <td>PersPerRentOccHous</td>\n",
       "      <td>-0.110311</td>\n",
       "    </tr>\n",
       "    <tr>\n",
       "      <th>...</th>\n",
       "      <td>...</td>\n",
       "      <td>...</td>\n",
       "    </tr>\n",
       "    <tr>\n",
       "      <th>59</th>\n",
       "      <td>PctRecImmig10</td>\n",
       "      <td>0.114940</td>\n",
       "    </tr>\n",
       "    <tr>\n",
       "      <th>71</th>\n",
       "      <td>HousVacant</td>\n",
       "      <td>0.116271</td>\n",
       "    </tr>\n",
       "    <tr>\n",
       "      <th>69</th>\n",
       "      <td>PctHousLess3BR</td>\n",
       "      <td>0.138043</td>\n",
       "    </tr>\n",
       "    <tr>\n",
       "      <th>110</th>\n",
       "      <td>OfficAssgnDrugUnits</td>\n",
       "      <td>0.144662</td>\n",
       "    </tr>\n",
       "    <tr>\n",
       "      <th>30</th>\n",
       "      <td>PctNotHSGrad</td>\n",
       "      <td>0.145050</td>\n",
       "    </tr>\n",
       "    <tr>\n",
       "      <th>38</th>\n",
       "      <td>MalePctDivorce</td>\n",
       "      <td>0.150979</td>\n",
       "    </tr>\n",
       "    <tr>\n",
       "      <th>68</th>\n",
       "      <td>PctPersDenseHous</td>\n",
       "      <td>0.155800</td>\n",
       "    </tr>\n",
       "    <tr>\n",
       "      <th>33</th>\n",
       "      <td>PctEmploy</td>\n",
       "      <td>0.163819</td>\n",
       "    </tr>\n",
       "    <tr>\n",
       "      <th>90</th>\n",
       "      <td>NumStreet</td>\n",
       "      <td>0.193840</td>\n",
       "    </tr>\n",
       "    <tr>\n",
       "      <th>113</th>\n",
       "      <td>LandArea</td>\n",
       "      <td>0.197890</td>\n",
       "    </tr>\n",
       "    <tr>\n",
       "      <th>19</th>\n",
       "      <td>medFamInc</td>\n",
       "      <td>0.238310</td>\n",
       "    </tr>\n",
       "    <tr>\n",
       "      <th>57</th>\n",
       "      <td>PctRecImmig5</td>\n",
       "      <td>0.250885</td>\n",
       "    </tr>\n",
       "    <tr>\n",
       "      <th>2</th>\n",
       "      <td>racepctblack</td>\n",
       "      <td>0.259221</td>\n",
       "    </tr>\n",
       "    <tr>\n",
       "      <th>49</th>\n",
       "      <td>NumIlleg</td>\n",
       "      <td>0.274064</td>\n",
       "    </tr>\n",
       "    <tr>\n",
       "      <th>105</th>\n",
       "      <td>PctPolicWhite</td>\n",
       "      <td>0.288334</td>\n",
       "    </tr>\n",
       "    <tr>\n",
       "      <th>16</th>\n",
       "      <td>pctWSocSec</td>\n",
       "      <td>0.299487</td>\n",
       "    </tr>\n",
       "    <tr>\n",
       "      <th>20</th>\n",
       "      <td>perCapInc</td>\n",
       "      <td>0.303796</td>\n",
       "    </tr>\n",
       "    <tr>\n",
       "      <th>39</th>\n",
       "      <td>MalePctNevMarr</td>\n",
       "      <td>0.346933</td>\n",
       "    </tr>\n",
       "    <tr>\n",
       "      <th>102</th>\n",
       "      <td>PolicReqPerOffic</td>\n",
       "      <td>0.347853</td>\n",
       "    </tr>\n",
       "    <tr>\n",
       "      <th>85</th>\n",
       "      <td>MedRent</td>\n",
       "      <td>0.426906</td>\n",
       "    </tr>\n",
       "    <tr>\n",
       "      <th>116</th>\n",
       "      <td>PolicCars</td>\n",
       "      <td>0.440821</td>\n",
       "    </tr>\n",
       "    <tr>\n",
       "      <th>62</th>\n",
       "      <td>PctLargHouseFam</td>\n",
       "      <td>0.447204</td>\n",
       "    </tr>\n",
       "    <tr>\n",
       "      <th>109</th>\n",
       "      <td>PctPolicMinor</td>\n",
       "      <td>0.452082</td>\n",
       "    </tr>\n",
       "    <tr>\n",
       "      <th>0</th>\n",
       "      <td>population</td>\n",
       "      <td>0.536777</td>\n",
       "    </tr>\n",
       "    <tr>\n",
       "      <th>99</th>\n",
       "      <td>LemasSwFTFieldPerPop</td>\n",
       "      <td>0.605224</td>\n",
       "    </tr>\n",
       "    <tr>\n",
       "      <th>64</th>\n",
       "      <td>PersPerOccupHous</td>\n",
       "      <td>0.801544</td>\n",
       "    </tr>\n",
       "    <tr>\n",
       "      <th>117</th>\n",
       "      <td>PolicOperBudg</td>\n",
       "      <td>0.845868</td>\n",
       "    </tr>\n",
       "    <tr>\n",
       "      <th>80</th>\n",
       "      <td>OwnOccMedVal</td>\n",
       "      <td>1.036848</td>\n",
       "    </tr>\n",
       "    <tr>\n",
       "      <th>98</th>\n",
       "      <td>LemasSwFTFieldOps</td>\n",
       "      <td>1.096262</td>\n",
       "    </tr>\n",
       "    <tr>\n",
       "      <th>97</th>\n",
       "      <td>LemasSwFTPerPop</td>\n",
       "      <td>3734.656100</td>\n",
       "    </tr>\n",
       "  </tbody>\n",
       "</table>\n",
       "<p>122 rows × 2 columns</p>\n",
       "</div>"
      ],
      "text/plain": [
       "             Имя признака  Вес признака\n",
       "103           PolicPerPop  -3735.168122\n",
       "10              numbUrban     -0.751070\n",
       "79         OwnOccLowQuart     -0.702989\n",
       "7             agePct12t29     -0.586161\n",
       "63      PctLargHouseOccup     -0.575794\n",
       "21            whitePerCap     -0.513258\n",
       "81          OwnOccHiQuart     -0.426227\n",
       "65      PersPerOwnOccHous     -0.360409\n",
       "51               NumImmig     -0.288987\n",
       "100         LemasTotalReq     -0.274058\n",
       "106         PctPolicBlack     -0.257781\n",
       "101     LemasTotReqPerPop     -0.250757\n",
       "27            NumUnderPov     -0.247834\n",
       "56         PctRecentImmig     -0.233168\n",
       "83             RentMedian     -0.221134\n",
       "82               RentLowQ     -0.214602\n",
       "61    PctNotSpeakEnglWell     -0.212158\n",
       "15             pctWInvInc     -0.211798\n",
       "48             PctWorkMom     -0.205789\n",
       "28         PctPopUnderPov     -0.199923\n",
       "43             PctFam2Par     -0.196206\n",
       "29        PctLess9thGrade     -0.192342\n",
       "40           FemalePctDiv     -0.171630\n",
       "18             pctWRetire     -0.157625\n",
       "9              agePct65up     -0.155960\n",
       "67        PctPersOwnOccup     -0.144793\n",
       "42             PersPerFam     -0.138592\n",
       "120   LemasPctOfficDrugUn     -0.117913\n",
       "3            racePctWhite     -0.113908\n",
       "66     PersPerRentOccHous     -0.110311\n",
       "..                    ...           ...\n",
       "59          PctRecImmig10      0.114940\n",
       "71             HousVacant      0.116271\n",
       "69         PctHousLess3BR      0.138043\n",
       "110   OfficAssgnDrugUnits      0.144662\n",
       "30           PctNotHSGrad      0.145050\n",
       "38         MalePctDivorce      0.150979\n",
       "68       PctPersDenseHous      0.155800\n",
       "33              PctEmploy      0.163819\n",
       "90              NumStreet      0.193840\n",
       "113              LandArea      0.197890\n",
       "19              medFamInc      0.238310\n",
       "57           PctRecImmig5      0.250885\n",
       "2            racepctblack      0.259221\n",
       "49               NumIlleg      0.274064\n",
       "105         PctPolicWhite      0.288334\n",
       "16             pctWSocSec      0.299487\n",
       "20              perCapInc      0.303796\n",
       "39         MalePctNevMarr      0.346933\n",
       "102      PolicReqPerOffic      0.347853\n",
       "85                MedRent      0.426906\n",
       "116             PolicCars      0.440821\n",
       "62        PctLargHouseFam      0.447204\n",
       "109         PctPolicMinor      0.452082\n",
       "0              population      0.536777\n",
       "99   LemasSwFTFieldPerPop      0.605224\n",
       "64       PersPerOccupHous      0.801544\n",
       "117         PolicOperBudg      0.845868\n",
       "80           OwnOccMedVal      1.036848\n",
       "98      LemasSwFTFieldOps      1.096262\n",
       "97        LemasSwFTPerPop   3734.656100\n",
       "\n",
       "[122 rows x 2 columns]"
      ]
     },
     "execution_count": 9,
     "metadata": {},
     "output_type": "execute_result"
    }
   ],
   "source": [
    "w.sort_values(by= 'Вес признака')"
   ]
  },
  {
   "cell_type": "markdown",
   "metadata": {},
   "source": [
    "И сразу замечаем, что у 1-ого регрессора в данном списке очень маленькое значение по сравнению с другими. А если обратим внимание на дно данного списка, то заметим брата-близнеца данного регрессора, имеющего очень большое значение и по модулю равное ему! В этот момент мы понимаем в чём дело. Похоже в нашей матрице \"объекты-признаки\" есть линейно-зависимые регрессоры. Посмотрим на корреляцию между ними: "
   ]
  },
  {
   "cell_type": "code",
   "execution_count": 10,
   "metadata": {
    "collapsed": false
   },
   "outputs": [
    {
     "data": {
      "text/plain": [
       "0.99999998504486121"
      ]
     },
     "execution_count": 10,
     "metadata": {},
     "output_type": "execute_result"
    }
   ],
   "source": [
    "np.corrcoef(x_tr['PolicPerPop'],x_tr['LemasSwFTPerPop'])[0,1]"
   ]
  },
  {
   "cell_type": "markdown",
   "metadata": {},
   "source": [
    "Корреляция близка к единице. Следовательно, в наших данных два почти одинаковых регрессора.\n",
    "\n",
    "Что будет, если включить в модель линейно-зависимые признаки? Приведем пример. Пусть мы имеем дело с *истинной зависимостью*:\n",
    "\n",
    "$$y_i=7+2p_i+3q_i+4r_i,$$\n",
    "\n",
    "где истинный вектор весов имеет вид $w=(w_0,w_1,w_2,w_3)^T=(7,2,3,4)$. Пусть переменные $q_i$ и $r_i$ всегда одинаковы:\n",
    "\n",
    "$$q_i=r_i$$ \n",
    "\n",
    "Тогда существует бесконечное число комбинаций $w_2$ и $w_3$, которые нам всё равно бы подошли. Например, возьмём комбинацию $w*=(7,2,-2000,2007)$:\n",
    "\n",
    "$$7+2p_i-2000q_i+2007r_i\\\\7+2p_i-2000q_i+2007q_i\\\\7+2p_i+7q_i\\\\7+2p_i+3q_i+4q_i\\\\7+2p_i+3q_i+4r_i=y_i$$\n",
    "\n",
    "Поэтому нам всё равно, какой вектор из бесконечного числа комбинаций взять. И обычно компьютер выбирает тот, в котором веса очень большие. А это означает, что если в новой выборке найдутся объекты, у которых данные регрессоры будут отличаться чуть больше, чем в обучающей выборке, то это будет катастрофически влиять на значение $y$ у таких объектов, далеко отбрасывая их даже от $\\bar{y}$. В эконометрике данное явление называется мультиколлинеарностью, и мы рассмотрели его лишь с одной стороны.  "
   ]
  },
  {
   "cell_type": "markdown",
   "metadata": {},
   "source": [
    "__Решение проблемы:__ Мы посмотрели описания признаков \"PolicPerPop\" и \"LemasSwFTPerPop\" и обнаружили, что они означают почти одно и то же (число полицейских на душу населения), поэтому мы просто удалили один из признаков."
   ]
  },
  {
   "cell_type": "code",
   "execution_count": 11,
   "metadata": {
    "collapsed": false
   },
   "outputs": [],
   "source": [
    "x = x.drop(['LemasSwFTPerPop'],1)\n",
    "colnames  = x.columns"
   ]
  },
  {
   "cell_type": "code",
   "execution_count": 12,
   "metadata": {
    "collapsed": true
   },
   "outputs": [],
   "source": [
    "x_tr,y_tr = x.ix[:int(x.shape[0]/2)],y.ix[:int(x.shape[0]/2)]\n",
    "x_test,y_test = x.ix[int(x.shape[0]/2)+1:],y.ix[int(x.shape[0]/2)+1:]"
   ]
  },
  {
   "cell_type": "markdown",
   "metadata": {},
   "source": [
    "Построим регрессию вновь и обнаружим, что теперь она приобрела обобщающую способность:"
   ]
  },
  {
   "cell_type": "code",
   "execution_count": 13,
   "metadata": {
    "collapsed": false
   },
   "outputs": [
    {
     "name": "stdout",
     "output_type": "stream",
     "text": [
      "R2 на обучающей выборке: 0.703947\n",
      "R2 на тестовой выборке: 0.616290\n"
     ]
    }
   ],
   "source": [
    "lr.fit(x_tr,y_tr)\n",
    "w = lr.coef_[0]\n",
    "w = pd.DataFrame({'Имя признака':colnames,'Вес признака':w},columns = ['Имя признака','Вес признака'])\n",
    "\n",
    "a = lr.predict(x_tr)\n",
    "a_test = lr.predict(x_test)\n",
    "print('R2 на обучающей выборке: %f' %metrics.r2_score(y_tr,a))\n",
    "print('R2 на тестовой выборке: %f' %metrics.r2_score(y_test,a_test))\n"
   ]
  },
  {
   "cell_type": "markdown",
   "metadata": {},
   "source": [
    "### Перемешивание объектов\n",
    "Данный случай показывает, как важно проводить валидацию модели. Но на самом деле, проведенный нами тест до сих пор не совсем точен. Мы разделили первичный датасет простым правилом (просто пополам), которое не гарантирует, что полученные подвыборки будут эквивалентны друг другу. Приведем простой пример. Пусть нам достался датасет, в котором все объекты отсортированы по возрастанию целевой переменной: "
   ]
  },
  {
   "cell_type": "code",
   "execution_count": 14,
   "metadata": {
    "collapsed": false
   },
   "outputs": [],
   "source": [
    "#x = x.sort_values(by='ViolentCrimesPerPop')\n",
    "x_sorted = x.copy()\n",
    "x_sorted['y'] = y.ViolentCrimesPerPop\n",
    "x_sorted = x_sorted.sort_values(by='y')\n",
    "y_sorted = x_sorted['y']\n",
    "x_sorted = x_sorted.drop(['y'],1)"
   ]
  },
  {
   "cell_type": "code",
   "execution_count": 15,
   "metadata": {
    "collapsed": true
   },
   "outputs": [],
   "source": [
    "x_tr,y_tr = x_sorted.ix[:int(x.shape[0]/2)],y_sorted.ix[:int(x.shape[0]/2)]\n",
    "x_test,y_test = x_sorted.ix[int(x.shape[0]/2)+1:],y_sorted.ix[int(x.shape[0]/2)+1:]"
   ]
  },
  {
   "cell_type": "markdown",
   "metadata": {},
   "source": [
    "Теперь построим модель на новой обучающей выборке и посмотрим на её метрику качества:"
   ]
  },
  {
   "cell_type": "code",
   "execution_count": 16,
   "metadata": {
    "collapsed": false
   },
   "outputs": [
    {
     "name": "stdout",
     "output_type": "stream",
     "text": [
      "R2 на обучающей выборке: 0.344850\n",
      "R2 на тестовой выборке: 0.000000\n"
     ]
    }
   ],
   "source": [
    "lr.fit(x_tr,y_tr)\n",
    "print('R2 на обучающей выборке: %f' %lr.score(x_tr,y_tr))\n",
    "print('R2 на тестовой выборке: %f' %lr.score(x_test,y_test))"
   ]
  },
  {
   "cell_type": "markdown",
   "metadata": {},
   "source": [
    "Данные в обучающей и валидационной выборке тепеь имеют на столько разную структуру, что это сказалось на $R^2$ для тестовой выборки. Чтобы правильно провести валидацию модели, нужно чтобы обе выборки были похожи друг на друга. Поэтому всегда рекомендуется перемешать объекты в исходном датасете, прежде чем делить его на обучающую и тестовую выборку."
   ]
  },
  {
   "cell_type": "code",
   "execution_count": 17,
   "metadata": {
    "collapsed": false
   },
   "outputs": [
    {
     "name": "stdout",
     "output_type": "stream",
     "text": [
      "R2 на обучающей выборке: 0.713445\n",
      "R2 на тестовой выборке: 0.617914\n"
     ]
    }
   ],
   "source": [
    "from sklearn.model_selection import train_test_split\n",
    "# random_state отвечает за зерно для генератора случайных чисел\n",
    "x_tr, x_test, y_tr, y_test = train_test_split(x_sorted, y_sorted,test_size=int(x.shape[0]/2),random_state = 123)\n",
    "\n",
    "x_sorted = x.copy()\n",
    "x_sorted['y'] = y.ViolentCrimesPerPop\n",
    "x_sorted = x_sorted.sort_values(by='y')\n",
    "y_sorted = x_sorted['y']\n",
    "x_sorted = x_sorted.drop(['y'],1)\n",
    "\n",
    "lr.fit(x_tr,y_tr)\n",
    "print('R2 на обучающей выборке: %f' %lr.score(x_tr,y_tr))\n",
    "print('R2 на тестовой выборке: %f' %lr.score(x_test,y_test))"
   ]
  },
  {
   "cell_type": "markdown",
   "metadata": {},
   "source": [
    "### Повышение устойчивости метрики\n",
    "Мы видим, что снова $R^2$ вернулся к прошлому значению. Хотя значения до и после сортировки немного разнятся. Чтобы повысить устойчивость оценки качества, можно проводить разбиение выборки на обучающую и тестовую не один, а $N$ раз, после чего усреднять результаты, полученные на $N$ контрольных выборках. Для этого можно использовать функцию ShuffleSplit:"
   ]
  },
  {
   "cell_type": "code",
   "execution_count": 18,
   "metadata": {
    "collapsed": false
   },
   "outputs": [
    {
     "name": "stdout",
     "output_type": "stream",
     "text": [
      "средний R2 на тестовой выборке: 0.611955\n"
     ]
    }
   ],
   "source": [
    "from sklearn.model_selection import ShuffleSplit\n",
    "# разобьём датасет на пополам 5 раз и возьмём средний R2\n",
    "# random_state отвечает за зерно для генератора случайных чисел\n",
    "cv = ShuffleSplit(n_splits=5, test_size=0.5, random_state=123)\n",
    "\n",
    "quals = []\n",
    "for tr_ind, test_ind in cv.split(x):\n",
    "    lr.fit(x.ix[tr_ind], y.ix[tr_ind])\n",
    "    quals.append(lr.score(x.ix[test_ind],y.ix[test_ind]))\n",
    "print('средний R2 на тестовой выборке: %f' %np.mean(quals))"
   ]
  },
  {
   "cell_type": "markdown",
   "metadata": {
    "collapsed": true
   },
   "source": [
    "### Оптимизация размера обучающей и тестовой выборки\n",
    "Последний способ уже достаточно хорошо справляется с валидацией. Однако все объекты, которые пришлось исключить из обучающей выборки, содержат в себе ценную информацию, которая не используется при построении модели. В конечном счёте наша итоговая модель всё равно будет использовать все доступные нам данные, и она будет отличаться от той модели, валидацию которой мы проводим сейчас. Поэтому, хотя валидация нашей текущей модели проведена корректно, прогноз обобщающей способности для нашей итоговой модели пессимистично занижен. Попробуем быть более оптимистичными :)\n",
    "\n",
    "Например, если у нас достаточно много объектов в выборке ($l=1994$), то оправлять половину из них в тестовую выборку - неоправданное расточительство. С другой стороны, оставление в ней слишком маленькой доли объектов может привести к неустойчивости метрики, поэтому нужно выбрать оптимальные пропорции обоих выборок."
   ]
  },
  {
   "cell_type": "markdown",
   "metadata": {},
   "source": [
    "Посмотрим, как меняется вариация и среднее метрики в зависимости от доли объектов, отправленной в тестовую выборку:"
   ]
  },
  {
   "cell_type": "code",
   "execution_count": 19,
   "metadata": {
    "collapsed": false
   },
   "outputs": [
    {
     "name": "stdout",
     "output_type": "stream",
     "text": [
      "0.5\n",
      "0.4\n",
      "0.3\n",
      "0.2\n",
      "0.15\n",
      "0.1\n",
      "0.05\n"
     ]
    }
   ],
   "source": [
    "grid = [0.5,0.4,0.3,0.2,0.15,0.1,0.05] \n",
    "table = pd.DataFrame()\n",
    "mean = []\n",
    "stdeviation = []\n",
    "\n",
    "for q in grid:\n",
    "    print(q)\n",
    "    # random_state отвечает за зерно для генератора случайных чисел\n",
    "    cv = ShuffleSplit(n_splits=50, test_size=q,random_state= 123) \n",
    "    quals = []\n",
    "    for tr_ind, test_ind in cv.split(x):\n",
    "        lr.fit(x.ix[tr_ind], y.ix[tr_ind])\n",
    "        quals.append(lr.score(x.ix[test_ind],y.ix[test_ind]))\n",
    "    stdeviation.append(np.std(quals))\n",
    "    mean.append(np.mean(quals))\n",
    "\n",
    "    \n",
    "table['Доля тестовой части'] = grid\n",
    "table['Мат. ожидание R2'] = mean\n",
    "table['Ст. отклонение R2'] = stdeviation"
   ]
  },
  {
   "cell_type": "code",
   "execution_count": 20,
   "metadata": {
    "collapsed": false
   },
   "outputs": [
    {
     "data": {
      "text/html": [
       "<div>\n",
       "<table border=\"1\" class=\"dataframe\">\n",
       "  <thead>\n",
       "    <tr style=\"text-align: right;\">\n",
       "      <th></th>\n",
       "      <th>Доля тестовой части</th>\n",
       "      <th>Мат. ожидание R2</th>\n",
       "      <th>Ст. отклонение R2</th>\n",
       "    </tr>\n",
       "  </thead>\n",
       "  <tbody>\n",
       "    <tr>\n",
       "      <th>0</th>\n",
       "      <td>0.50</td>\n",
       "      <td>0.607416</td>\n",
       "      <td>0.022585</td>\n",
       "    </tr>\n",
       "    <tr>\n",
       "      <th>1</th>\n",
       "      <td>0.40</td>\n",
       "      <td>0.616874</td>\n",
       "      <td>0.029127</td>\n",
       "    </tr>\n",
       "    <tr>\n",
       "      <th>2</th>\n",
       "      <td>0.30</td>\n",
       "      <td>0.627450</td>\n",
       "      <td>0.033079</td>\n",
       "    </tr>\n",
       "    <tr>\n",
       "      <th>3</th>\n",
       "      <td>0.20</td>\n",
       "      <td>0.639197</td>\n",
       "      <td>0.033502</td>\n",
       "    </tr>\n",
       "    <tr>\n",
       "      <th>4</th>\n",
       "      <td>0.15</td>\n",
       "      <td>0.645398</td>\n",
       "      <td>0.037471</td>\n",
       "    </tr>\n",
       "    <tr>\n",
       "      <th>5</th>\n",
       "      <td>0.10</td>\n",
       "      <td>0.643811</td>\n",
       "      <td>0.050088</td>\n",
       "    </tr>\n",
       "    <tr>\n",
       "      <th>6</th>\n",
       "      <td>0.05</td>\n",
       "      <td>0.640761</td>\n",
       "      <td>0.075379</td>\n",
       "    </tr>\n",
       "  </tbody>\n",
       "</table>\n",
       "</div>"
      ],
      "text/plain": [
       "   Доля тестовой части  Мат. ожидание R2  Ст. отклонение R2\n",
       "0                 0.50          0.607416           0.022585\n",
       "1                 0.40          0.616874           0.029127\n",
       "2                 0.30          0.627450           0.033079\n",
       "3                 0.20          0.639197           0.033502\n",
       "4                 0.15          0.645398           0.037471\n",
       "5                 0.10          0.643811           0.050088\n",
       "6                 0.05          0.640761           0.075379"
      ]
     },
     "execution_count": 20,
     "metadata": {},
     "output_type": "execute_result"
    }
   ],
   "source": [
    "table"
   ]
  },
  {
   "cell_type": "markdown",
   "metadata": {},
   "source": [
    "Мы видим, что стандартное отклонение метрики увеличивается, что показывает возрастающую неустойчивость метрики. Мы будем в дальнейшем разбивать наши данные в пропорции 80\\20, поскольку она выглядит оптимальной: в обучающей выборке объектов побольше, но метрика на тестовой выборке достаточно устойчива."
   ]
  },
  {
   "cell_type": "markdown",
   "metadata": {},
   "source": [
    " ### Kfold cross-validation"
   ]
  },
  {
   "cell_type": "markdown",
   "metadata": {},
   "source": [
    "Часто мы хотим, чтобы все объекты побывали в обучающей выборке, причем одинаковое число раз. В таком случае модель будет в равной мере использовать для обучения все объекты из выборки. Чтобы удовлетворить этому условию, можно использовать схему K-fold кросс-валидации, реализованную в качестве объекта sklearn.cross_validation.KFold.\n",
    "\n",
    "![alt text][cv]\n",
    "\n",
    "[cv]: https://raw.githubusercontent.com/ritchieng/machine-learning-dataschool/master/images/07_cross_validation_diagram.png \"cv\"\n",
    "В данном случае выборка разбивается на $K$ (примерно) одинаковых блоков, каждый из которых поочередно выступает в качестве контрольной выборки, а оставшиеся $K-1$ — в качестве обучающей, после чего оценки качества усредняются:\n",
    "$$Q_{K-fold}(X) = \\frac{1}{K} \\sum_{k=1}^K Q(X^k; a_{X \\backslash X^k }),$$\n",
    "\n",
    "где $X^k, k = \\overline{1, K}$ — непересекающиеся блоки, на которые разбивается выборка $X$: $X = \\sqcup_{k=1}^K X^k.$"
   ]
  },
  {
   "cell_type": "code",
   "execution_count": 21,
   "metadata": {
    "collapsed": false
   },
   "outputs": [
    {
     "name": "stderr",
     "output_type": "stream",
     "text": [
      "C:\\Anaconda3\\lib\\site-packages\\sklearn\\cross_validation.py:44: DeprecationWarning: This module was deprecated in version 0.18 in favor of the model_selection module into which all the refactored classes and functions are moved. Also note that the interface of the new CV iterators are different from that of this module. This module will be removed in 0.20.\n",
      "  \"This module will be removed in 0.20.\", DeprecationWarning)\n"
     ]
    },
    {
     "name": "stdout",
     "output_type": "stream",
     "text": [
      "K-fold accuracy = 0.635046118068\n"
     ]
    }
   ],
   "source": [
    "from sklearn import cross_validation\n",
    "cv = cross_validation.KFold(n=x.shape[0], n_folds=10, random_state=123, shuffle=True)\n",
    "quals = []\n",
    "for tr_ids, test_ids in cv:\n",
    "    lr.fit(x.iloc[tr_ids], y.iloc[tr_ids])\n",
    "    quals.append(lr.score(x.iloc[test_ids],y.iloc[test_ids]))\n",
    "\n",
    "print(\"K-fold accuracy =\", np.mean(quals))"
   ]
  },
  {
   "cell_type": "markdown",
   "metadata": {},
   "source": [
    "Кросс-валидация часто используется на маленьких выборках, в которых каждый объект на счету. Иногда применяется способ Leave One Out (sklearn.cross_validation.LeaveOneOut), когда в контрольную выборку попадаёт только один объект, каждый по очереди, пока все в ней не побывают."
   ]
  },
  {
   "cell_type": "markdown",
   "metadata": {},
   "source": [
    "## Переобучение\n",
    "\n",
    "![alt text][cv]\n",
    "\n",
    "[cv]: https://upload.wikimedia.org/wikipedia/commons/thumb/0/0c/Spurious_correlations_-_spelling_bee_spiders.svg/1040px-Spurious_correlations_-_spelling_bee_spiders.svg.png \"wikipedia\"\n",
    "Теперь давайте поговорим о том, почему $R^2$ на тестовой выборке всегда ощутимо ниже, чем на обучающей."
   ]
  },
  {
   "cell_type": "markdown",
   "metadata": {
    "collapsed": true
   },
   "source": [
    "Скольких точек должно хватить для того, чтобы построить прямую? Плоскость? 3-хмерную гиперплоскость? N-мерную гиперплоскость? Какой $R^2$ будет у модели, в которой количество объектов $l$ совпадает с количеством регрессоров $d$? В такой модели при построении будет необходимо разместить единую $d$-мерную плоскость как можно ближе к $l=d$ объектам. Очевидно, что в таком случае всегда удастся подобрать плоскость, которая будет максимально близко ко всем объектам сразу (объекты будут попросту лежать на ней). Поэтому если в выборке $L$ не окажется двух одинаковых объектов с разным значением целевой переменной, то такая модель всего-навсего закодирует через регрессоры все $y_i$ объектов этой выборки:"
   ]
  },
  {
   "cell_type": "code",
   "execution_count": 22,
   "metadata": {
    "collapsed": false
   },
   "outputs": [
    {
     "name": "stdout",
     "output_type": "stream",
     "text": [
      "R2 на обучающей выборке: 1.000000\n",
      "R2 на тестовой выборке: -156.400261\n"
     ]
    }
   ],
   "source": [
    "x_fullfree,y_fullfree = x.ix[:x.shape[1]],y.ix[:x.shape[1]] # напоминаем: в shape 0 - это строки, 1 - столбцы\n",
    "x_fftest,y_fftest = x.ix[x.shape[1]+1:],y.ix[x.shape[1]+1:]\n",
    "\n",
    "lr.fit(x_fullfree,y_fullfree)\n",
    "print('R2 на обучающей выборке: %f' %lr.score(x_fullfree,y_fullfree))\n",
    "print('R2 на тестовой выборке: %f' %lr.score(x_fftest,y_fftest))"
   ]
  },
  {
   "cell_type": "markdown",
   "metadata": {},
   "source": [
    "Но как мы видим на тестовой выборке, такой \"код\" полностью бесполезен. Это утрированный пример полного переобучения модели. Каждый вновь добавленный регрессор может содержать или не содержать полезную информацию о свойствах объектов, но ещё одну степень свободы для более лучшей подгонки модели под выборку он всегда с собой прихватит! В этом и смысл переобучения, которое угрожает не только семейству линейных моделей. Объект, на котором модель обучалась, содержит в себе информацию, которая является частью сущности модели, поэтому поведение данного объекта модель всегда предсказывает всегда лучше, чем если бы он не был включён в обучение. Каждый дополнительный параметр, которым настраивается частная реализация некоторого семейства моделей, является степенью свободы. Каждая степень свободы обеспечивает необходимую гибкость в построении моделей и обеспечивает их разнообразие внутри семейства, но \"слишком гибкая модель перегибает палку\".\n",
    "\n",
    "Ещё одна причина переобучения - случайные закономерности, которые встречаются в обучающей выборке, но уже не встречаются в тестовой. В качестве примера приведем картинку с википедии из начала этого раздела. Бороться с этой причиной можно увеличением объектов в обучающей выборке, что мы сделали ранее."
   ]
  },
  {
   "cell_type": "markdown",
   "metadata": {},
   "source": [
    "Данный эффект сказывается и на нашей самой пока что адекватной модели, с оптимальными соотношениями обучающей и тестовой выборки и с кросс-валидацией. Давайте посмотрим на него. Для этого отразим поведение $R^2$ на обучающей и тестовой выборке с добавлением новых регрессоров:"
   ]
  },
  {
   "cell_type": "code",
   "execution_count": 23,
   "metadata": {
    "collapsed": false
   },
   "outputs": [
    {
     "name": "stdout",
     "output_type": "stream",
     "text": [
      "Этап работы кода: 0/121\n",
      "Этап работы кода: 10/121\n",
      "Этап работы кода: 20/121\n",
      "Этап работы кода: 30/121\n",
      "Этап работы кода: 40/121\n",
      "Этап работы кода: 50/121\n",
      "Этап работы кода: 60/121\n",
      "Этап работы кода: 70/121\n",
      "Этап работы кода: 80/121\n",
      "Этап работы кода: 90/121\n",
      "Этап работы кода: 100/121\n",
      "Этап работы кода: 110/121\n",
      "Этап работы кода: 120/121\n"
     ]
    }
   ],
   "source": [
    "train_r2_dynamics = []\n",
    "test_r2_dynamics = []\n",
    "\n",
    "cv = cross_validation.KFold(n=x.shape[0], n_folds=10, random_state=123, shuffle=True)\n",
    "for d in range(x.shape[1]):\n",
    "    if d % 10 == 0:\n",
    "        print('Сколько осталось ждать: %s/%s' % (d,x.shape[1]))\n",
    "    train_r2 = []\n",
    "    test_r2 = []\n",
    "    for train_ids, test_ids in cv:\n",
    "        lr.fit(x.iloc[train_ids,0:d+1], y.iloc[train_ids])\n",
    "        train_r2.append(lr.score(x.iloc[train_ids,0:d+1],y.iloc[train_ids]))\n",
    "        test_r2.append(lr.score(x.iloc[test_ids,0:d+1],y.iloc[test_ids]))\n",
    "    train_r2_dynamics.append(np.mean(train_r2))\n",
    "    test_r2_dynamics.append(np.mean(test_r2))"
   ]
  },
  {
   "cell_type": "code",
   "execution_count": 24,
   "metadata": {
    "collapsed": false
   },
   "outputs": [
    {
     "data": {
      "text/plain": [
       "<matplotlib.legend.Legend at 0x1b5920249e8>"
      ]
     },
     "execution_count": 24,
     "metadata": {},
     "output_type": "execute_result"
    },
    {
     "data": {
      "image/png": "[encoded data removed]",
      "text/plain": [
       "<matplotlib.figure.Figure at 0x1b591c276a0>"
      ]
     },
     "metadata": {},
     "output_type": "display_data"
    }
   ],
   "source": [
    "import matplotlib.pyplot as plt\n",
    "%matplotlib inline\n",
    "\n",
    "plt.figure(figsize=(20, 7))\n",
    "i1 = 3\n",
    "i2 = 120\n",
    "plt.plot(range(x.shape[1])[i1:i2],train_r2_dynamics[i1:i2],label= 'train_r2_dynamics')\n",
    "plt.plot(range(x.shape[1])[i1:i2],test_r2_dynamics[i1:i2],label= 'test_r2_dynamics')\n",
    "plt.legend()\n"
   ]
  },
  {
   "cell_type": "markdown",
   "metadata": {},
   "source": [
    "Мы видим, что:\n",
    "* $R^2$ на обучающей выборке растёт всегда. \n",
    "* Где-то с 90-ого вновь добавленного регрессора модель слишком сильно подогналась под обучающую выборку и $R^2$ на новых данных начинает падать.\n",
    "* Всегда наблюдается разрыв между $R^2$ на train и test. **Именно это** мы называем эффектом **переобучения.**\n",
    "* Разрыв между метриками возрастает. Это означает, что с добавлением регрессоров модель теряет способность обобщать найденные закономерности на новые данные. (Ну, вы поняли, **обобщающую способность**.)\n",
    "\n",
    "Поэтому напрашивается вывод - на 90-ста первых регрессорах модель делает свою работу лучше, чем на 120-ти."
   ]
  },
  {
   "cell_type": "code",
   "execution_count": 25,
   "metadata": {
    "collapsed": false
   },
   "outputs": [
    {
     "name": "stdout",
     "output_type": "stream",
     "text": [
      "R2 для модели с 90 регрессорами: 0.652074\n",
      "R2 для модели с 121 регрессорами: 0.635046\n"
     ]
    }
   ],
   "source": [
    "for d in [90,x.shape[1]]:\n",
    "    train_r2 = []\n",
    "    test_r2 = []\n",
    "    for train_ids, test_ids in cv:\n",
    "        lr.fit(x.iloc[train_ids,0:d+1], y.iloc[train_ids])\n",
    "        train_r2.append(lr.score(x.iloc[train_ids,0:d+1],y.iloc[train_ids]))\n",
    "        test_r2.append(lr.score(x.iloc[test_ids,0:d+1],y.iloc[test_ids]))\n",
    "    print('R2 для модели с %s регрессорами: %f' % (d,np.mean(test_r2)))"
   ]
  },
  {
   "cell_type": "markdown",
   "metadata": {},
   "source": [
    "Но торопиться переходить к модели с 90-регрессорами мы пока не будем."
   ]
  },
  {
   "cell_type": "markdown",
   "metadata": {},
   "source": [
    "## Регуляризация\n",
    "\n",
    "Несмотря на то, что модель за 90 явно начинает страдать от большого числа степеней свободы, это не значит, что оставшиеся 30 регрессоров не содержат никакой полезной информации, которую они могли бы привнести в неё. Мы можем попытаться \"выжать\" её из них. Для этого давайте штрафовать функционал качества за слишком большие значения весов $w_j$:\n",
    "* $L_1$ регуляризация, или Lasso-регрессия: $$ Q(w) = \\frac{1}{l}||Xw-y||^2+\\alpha\\sum_{j=1}^d{w_j^2} \\rightarrow min$$\n",
    "* $L_2$ регуляризация, или Ridge-регрессия: $$ Q(w) = \\frac{1}{l}||Xw-y||^2+\\alpha\\sum_{j=1}^d{|w_j|} \\rightarrow min$$\n",
    "\n",
    "Из лекций мы знаем, что переобучение нередко приводит к большим значениям коэффициентов. Такие решения не очень хороши, поскольку модель будет чувствительная к крайне маленьким изменениям в признаках объекта, а значит, переобучен. Включение штрафа заставит модель со скептицизмом относиться к большим значениям весов. $\\alpha$ - это гиперпараметр модели, который регулирует уровень её скептицизма."
   ]
  },
  {
   "cell_type": "markdown",
   "metadata": {},
   "source": [
    "Возьмём для примера $\\alpha_1 = 0.0015$ и $\\alpha_2 = 1$ и построим регрессии с обоими типами регуляризаций:"
   ]
  },
  {
   "cell_type": "code",
   "execution_count": 165,
   "metadata": {
    "collapsed": false
   },
   "outputs": [
    {
     "name": "stdout",
     "output_type": "stream",
     "text": [
      "Этап работы кода: 0/121\n",
      "Этап работы кода: 10/121\n",
      "Этап работы кода: 20/121\n",
      "Этап работы кода: 30/121\n",
      "Этап работы кода: 40/121\n",
      "Этап работы кода: 50/121\n",
      "Этап работы кода: 60/121\n",
      "Этап работы кода: 70/121\n",
      "Этап работы кода: 80/121\n",
      "Этап работы кода: 90/121\n",
      "Этап работы кода: 100/121\n",
      "Этап работы кода: 110/121\n",
      "Этап работы кода: 120/121\n"
     ]
    }
   ],
   "source": [
    "# на сей раз лучше уж весь пакет импортируем :)\n",
    "import sklearn\n",
    "\n",
    "train_r2_dynamics = []\n",
    "test_r2_dynamics = []\n",
    "l1_r2_dynamics = []\n",
    "l2_r2_dynamics = []\n",
    "\n",
    "l1lr = sklearn.linear_model.Lasso(alpha = 0.0015)\n",
    "l2lr = sklearn.linear_model.Ridge(alpha = 3)\n",
    "\n",
    "cv = cross_validation.KFold(n=x.shape[0], n_folds=10, random_state=123, shuffle=True)\n",
    "for d in range(x.shape[1]):\n",
    "    if d % 10 == 0:\n",
    "        print('Этап работы кода: %s/%s' % (d,x.shape[1]))\n",
    "    ### ### ###   \n",
    "    train_r2 = []\n",
    "    test_r2 = []\n",
    "    l1_r2 = []\n",
    "    l2_r2 = []\n",
    "    ### ### ###\n",
    "    for train_ids, test_ids in cv:\n",
    "        lr.fit(x.iloc[train_ids,0:d+1], y.iloc[train_ids])\n",
    "        l1lr.fit(x.iloc[train_ids,0:d+1], y.iloc[train_ids])\n",
    "        l2lr.fit(x.iloc[train_ids,0:d+1], y.iloc[train_ids])\n",
    "        ### ### ###\n",
    "        train_r2.append(lr.score(x.iloc[train_ids,0:d+1],y.iloc[train_ids]))\n",
    "        test_r2.append(lr.score(x.iloc[test_ids,0:d+1],y.iloc[test_ids]))\n",
    "        l1_r2.append(l1lr.score(x.iloc[test_ids,0:d+1],y.iloc[test_ids]))\n",
    "        l2_r2.append(l2lr.score(x.iloc[test_ids,0:d+1],y.iloc[test_ids]))\n",
    "    ### ### ###\n",
    "    train_r2_dynamics.append(np.mean(train_r2))\n",
    "    test_r2_dynamics.append(np.mean(test_r2))\n",
    "    l1_r2_dynamics.append(np.mean(l1_r2))\n",
    "    l2_r2_dynamics.append(np.mean(l2_r2))"
   ]
  },
  {
   "cell_type": "code",
   "execution_count": 27,
   "metadata": {
    "collapsed": false
   },
   "outputs": [
    {
     "data": {
      "text/plain": [
       "<matplotlib.legend.Legend at 0x1b592056ba8>"
      ]
     },
     "execution_count": 27,
     "metadata": {},
     "output_type": "execute_result"
    },
    {
     "data": {
      "image/png": "[encoded data removed]",
      "text/plain": [
       "<matplotlib.figure.Figure at 0x1b5923251d0>"
      ]
     },
     "metadata": {},
     "output_type": "display_data"
    }
   ],
   "source": [
    "import matplotlib.pyplot as plt\n",
    "%matplotlib inline\n",
    "\n",
    "plt.figure(figsize=(20, 7))\n",
    "i1 = 20\n",
    "i2 = 121\n",
    "plt.plot(range(x.shape[1])[i1:i2],train_r2_dynamics[i1:i2],label= 'train_r2_dynamics')\n",
    "plt.plot(range(x.shape[1])[i1:i2],test_r2_dynamics[i1:i2],label= 'test_r2_dynamics')\n",
    "plt.plot(range(x.shape[1])[i1:i2],l1_r2_dynamics[i1:i2],label= 'l1_r2_dynamics')\n",
    "plt.plot(range(x.shape[1])[i1:i2],l2_r2_dynamics[i1:i2],label= 'l2_r2_dynamics')\n",
    "plt.legend()"
   ]
  },
  {
   "cell_type": "markdown",
   "metadata": {},
   "source": [
    "Мы видим, что:\n",
    "* процесс переобучения модели удаётся замедлить с помощью обоих типов регуляризации;\n",
    "*  при параметре $\\alpha = 1$ ridge-регрессия определённо лучше обычной регрессии;\n",
    "*  при параметре $\\alpha = 0.0015$ lasso-регрессия хуже справляется с прогнозом чем обычная регрессия;\n",
    "*  динамика метрики для lass-регрессии возрастает рывками. Кто значет **почему**?"
   ]
  },
  {
   "cell_type": "markdown",
   "metadata": {},
   "source": [
    "# Дополнительное \n",
    "## Поиск оптимального $\\alpha$ по сетке значений"
   ]
  },
  {
   "cell_type": "markdown",
   "metadata": {},
   "source": [
    "Очевидно, что $\\alpha$ нужно настраивать. Но сделать это по обучающей выборке нельзя (оптимальное $\\alpha$ на ней равно нулю). Поэтому придётся использовать новые данные (из валидационной выборки), которые мы использовали раньше только для проверки обобщающей способности. Но так как гиперпараметр влияет на сущность модели, а значение гиперпараметра зависит от данных из валидационной выборки, то валидационная выборка становится частью её сущности, что автоматически дискредитирует валидационную выборку. Поэтому для настройки $\\alpha$ нужно использовать не те же самые данные, которые будут использоваться для итоговой проверки обобщающей способности.\n",
    "\n",
    "Поэтому, если мы хотим усовершенствовать нашу модель, добавив в неё настроенную регуляризацию, то мы разделим выборку ещё более сложным способом:\n",
    "\n",
    "![alt text][pict3]\n",
    "\n",
    "[pict3]: https://github.com/FilatovArtm/ML_Eco-NES_2017/blob/master/seminars/maintain/sem3picture%202.jpg?raw=true \"wikipedia\"\n",
    "\n",
    "Валидационная выборка будет использоваться для настройки гиперпараметров и разбиваться в кросс-валидацию. Тестовая выборка будет использоваться для финальной проверки обобщающей способности, чтобы мы понимали, какой $R^2$ нам нужно будет ожидать от нашей отпимизированной модели. По уже указанным причинам, разобьем исходный датасет в соотношениии 80 на 20."
   ]
  },
  {
   "cell_type": "code",
   "execution_count": 28,
   "metadata": {
    "collapsed": true
   },
   "outputs": [],
   "source": [
    "x_valid, x_test, y_valid, y_test = train_test_split(x_sorted, y_sorted,test_size=int(x.shape[0]*0.2),random_state = 132)"
   ]
  },
  {
   "cell_type": "markdown",
   "metadata": {},
   "source": [
    "Для оптимизации $\\alpha$ создадим сетку значений и заставим python пробежаться по всем из них, построив для каждого значения модель и метрику качества на ней тестовому куску:"
   ]
  },
  {
   "cell_type": "code",
   "execution_count": null,
   "metadata": {
    "collapsed": true
   },
   "outputs": [],
   "source": [
    "sklearn.model_selection.GridSearchCV"
   ]
  },
  {
   "cell_type": "code",
   "execution_count": 145,
   "metadata": {
    "collapsed": true
   },
   "outputs": [],
   "source": [
    "alphagrid = np.linspace(0.1,10,40)\n",
    "l2_r2_byalpha = []\n",
    "\n",
    "cv = cross_validation.KFold(n=x_valid.shape[0], n_folds=10, random_state=123, shuffle=True)\n",
    "for alphai in alphagrid:\n",
    "    l2_r2 = []\n",
    "    for train_ids, test_ids in cv:\n",
    "        l2lr = sklearn.linear_model.Ridge(alpha = alphai)\n",
    "        l2lr.fit(x_valid.iloc[train_ids,:], y_valid.iloc[train_ids])\n",
    "        l2_r2.append(l2lr.score(x_valid.iloc[test_ids,:],y_valid.iloc[test_ids]))\n",
    "    l2_r2_byalpha.append(np.mean(l2_r2))\n",
    "        "
   ]
  },
  {
   "cell_type": "markdown",
   "metadata": {},
   "source": [
    "Тоже самое можно сделать, просто пользуясь встроенной функцией (которую всё равно нужно настроить) из sklearn:"
   ]
  },
  {
   "cell_type": "code",
   "execution_count": 146,
   "metadata": {
    "collapsed": false
   },
   "outputs": [
    {
     "data": {
      "text/plain": [
       "GridSearchCV(cv=sklearn.cross_validation.KFold(n=1596, n_folds=10, shuffle=True, random_state=123),\n",
       "       error_score='raise',\n",
       "       estimator=Ridge(alpha=1.0, copy_X=True, fit_intercept=True, max_iter=None,\n",
       "   normalize=False, random_state=None, solver='auto', tol=0.001),\n",
       "       fit_params={}, iid=True, n_jobs=1,\n",
       "       param_grid={'alpha': array([  0.1    ,   0.35385,   0.60769,   0.86154,   1.11538,   1.36923,\n",
       "         1.62308,   1.87692,   2.13077,   2.38462,   2.63846,   2.89231,\n",
       "         3.14615,   3.4    ,   3.65385,   3.90769,   4.16154,   4.41538,\n",
       "         4.66923,   4.92308,   5.17692,   5.43077,   5.68462...23,   8.22308,   8.47692,   8.73077,   8.98462,\n",
       "         9.23846,   9.49231,   9.74615,  10.     ])},\n",
       "       pre_dispatch='2*n_jobs', refit=True, return_train_score=True,\n",
       "       scoring='r2', verbose=0)"
      ]
     },
     "execution_count": 146,
     "metadata": {},
     "output_type": "execute_result"
    }
   ],
   "source": [
    "from sklearn.model_selection import GridSearchCV\n",
    "parameters = {'alpha': np.linspace(0.1,10,40)}\n",
    "l2lr = sklearn.linear_model.Ridge()\n",
    "alphaopt = GridSearchCV(l2lr, parameters,cv = cv,scoring='r2')\n",
    "alphaopt.fit(x_valid,y_valid)\n",
    "\n",
    "gridopt2 = pd.DataFrame(alphaopt.cv_results_)"
   ]
  },
  {
   "cell_type": "code",
   "execution_count": 153,
   "metadata": {
    "collapsed": false
   },
   "outputs": [
    {
     "data": {
      "text/plain": [
       "<matplotlib.legend.Legend at 0x1b599aa6128>"
      ]
     },
     "execution_count": 153,
     "metadata": {},
     "output_type": "execute_result"
    },
    {
     "data": {
      "image/png": "[encoded data removed]",
      "text/plain": [
       "<matplotlib.figure.Figure at 0x1b599e09080>"
      ]
     },
     "metadata": {},
     "output_type": "display_data"
    }
   ],
   "source": [
    "plt.figure(figsize=(16,6))\n",
    "plt.plot(gridopt2.param_alpha,gridopt2.mean_test_score,label='sklearn')\n",
    "plt.plot(alphagrid,l2_r2_byalpha,label = 'вручную')\n",
    "plt.xlabel('alpha')\n",
    "plt.ylabel('R_2')\n",
    "plt.legend()"
   ]
  },
  {
   "cell_type": "code",
   "execution_count": 154,
   "metadata": {
    "collapsed": false
   },
   "outputs": [
    {
     "data": {
      "text/html": [
       "<div>\n",
       "<table border=\"1\" class=\"dataframe\">\n",
       "  <thead>\n",
       "    <tr style=\"text-align: right;\">\n",
       "      <th></th>\n",
       "      <th>alpha</th>\n",
       "      <th>r_2</th>\n",
       "    </tr>\n",
       "  </thead>\n",
       "  <tbody>\n",
       "    <tr>\n",
       "      <th>7</th>\n",
       "      <td>1.876923</td>\n",
       "      <td>0.660389</td>\n",
       "    </tr>\n",
       "    <tr>\n",
       "      <th>8</th>\n",
       "      <td>2.130769</td>\n",
       "      <td>0.660378</td>\n",
       "    </tr>\n",
       "    <tr>\n",
       "      <th>6</th>\n",
       "      <td>1.623077</td>\n",
       "      <td>0.660350</td>\n",
       "    </tr>\n",
       "    <tr>\n",
       "      <th>9</th>\n",
       "      <td>2.384615</td>\n",
       "      <td>0.660336</td>\n",
       "    </tr>\n",
       "    <tr>\n",
       "      <th>10</th>\n",
       "      <td>2.638462</td>\n",
       "      <td>0.660271</td>\n",
       "    </tr>\n",
       "  </tbody>\n",
       "</table>\n",
       "</div>"
      ],
      "text/plain": [
       "       alpha       r_2\n",
       "7   1.876923  0.660389\n",
       "8   2.130769  0.660378\n",
       "6   1.623077  0.660350\n",
       "9   2.384615  0.660336\n",
       "10  2.638462  0.660271"
      ]
     },
     "execution_count": 154,
     "metadata": {},
     "output_type": "execute_result"
    }
   ],
   "source": [
    "gridopt.sort_values(by='r_2',ascending=False).head()"
   ]
  },
  {
   "cell_type": "markdown",
   "metadata": {},
   "source": [
    "## Проблема оптимального набора регрессоров\n",
    "Пересчитаем динамику $R^2$ при добавлении новых регрессоров для регуляризации $\\alpha_{\\text{old}}=3$ и $\\alpha_{\\text{new}}=1.5$ (теперь на валидационной выборке):"
   ]
  },
  {
   "cell_type": "code",
   "execution_count": 172,
   "metadata": {
    "collapsed": false
   },
   "outputs": [
    {
     "name": "stdout",
     "output_type": "stream",
     "text": [
      "Этап работы кода: 0/121\n",
      "Этап работы кода: 10/121\n",
      "Этап работы кода: 20/121\n",
      "Этап работы кода: 30/121\n",
      "Этап работы кода: 40/121\n",
      "Этап работы кода: 50/121\n",
      "Этап работы кода: 60/121\n",
      "Этап работы кода: 70/121\n",
      "Этап работы кода: 80/121\n",
      "Этап работы кода: 90/121\n",
      "Этап работы кода: 100/121\n",
      "Этап работы кода: 110/121\n",
      "Этап работы кода: 120/121\n"
     ]
    }
   ],
   "source": [
    "test_r2_dynamics = []\n",
    "l2old_r2_dynamics = []\n",
    "l2new_r2_dynamics = []\n",
    "\n",
    "l2lrold = sklearn.linear_model.Ridge(alpha = 3)\n",
    "l2lrnew = sklearn.linear_model.Ridge(alpha = 1.5)\n",
    "\n",
    "cv = cross_validation.KFold(n=x_valid.shape[0], n_folds=10, random_state=123, shuffle=True)\n",
    "for d in range(x.shape[1]):\n",
    "    if d % 10 == 0:\n",
    "        print('Этап работы кода: %s/%s' % (d,x_valid.shape[1]))\n",
    "    ### ### ###   \n",
    "    test_r2 = []\n",
    "    l2old_r2 = []\n",
    "    l2new_r2 = []\n",
    "    ### ### ###\n",
    "    for train_ids, test_ids in cv:\n",
    "        lr.fit(x_valid.iloc[train_ids,0:d+1], y_valid.iloc[train_ids])\n",
    "        l2lrold.fit(x_valid.iloc[train_ids,0:d+1], y_valid.iloc[train_ids])\n",
    "        l2lrnew.fit(x_valid.iloc[train_ids,0:d+1], y_valid.iloc[train_ids])\n",
    "        ### ### ###\n",
    "        test_r2.append(lr.score(x_valid.iloc[test_ids,0:d+1],y_valid.iloc[test_ids]))\n",
    "        l2old_r2.append(l2lrold.score(x_valid.iloc[test_ids,0:d+1],y_valid.iloc[test_ids]))\n",
    "        l2new_r2.append(l2lrnew.score(x_valid.iloc[test_ids,0:d+1],y_valid.iloc[test_ids]))\n",
    "    ### ### ###\n",
    "    test_r2_dynamics.append(np.mean(test_r2))\n",
    "    l2old_r2_dynamics.append(np.mean(l2old_r2))\n",
    "    l2new_r2_dynamics.append(np.mean(l2new_r2))"
   ]
  },
  {
   "cell_type": "code",
   "execution_count": 173,
   "metadata": {
    "collapsed": false
   },
   "outputs": [
    {
     "data": {
      "text/plain": [
       "<matplotlib.legend.Legend at 0x1b5972f0470>"
      ]
     },
     "execution_count": 173,
     "metadata": {},
     "output_type": "execute_result"
    },
    {
     "data": {
      "image/png": "[encoded data removed]",
      "text/plain": [
       "<matplotlib.figure.Figure at 0x1b59aab4208>"
      ]
     },
     "metadata": {},
     "output_type": "display_data"
    }
   ],
   "source": [
    "plt.figure(figsize=(20, 7))\n",
    "i1 = 80\n",
    "i2 = 121\n",
    "plt.plot(range(x.shape[1])[i1:i2],test_r2_dynamics[i1:i2],label= 'test_r2_dynamics')\n",
    "plt.plot(range(x.shape[1])[i1:i2],l2old_r2_dynamics[i1:i2],label= 'l2old_r2_dynamics')\n",
    "plt.plot(range(x.shape[1])[i1:i2],l2new_r2_dynamics[i1:i2],label= 'l2new_r2_dynamics')\n",
    "plt.legend()"
   ]
  },
  {
   "cell_type": "markdown",
   "metadata": {},
   "source": [
    "Мы видим, что значение метрики на модели со всеми регрессорами улучшилось не значительно. Вместе с тем, даже оптимизация $\\alpha$ не позволяет остановить ухудшение метрики при добавлении новых регрессоров. Сразу видно, что есть очень простой способ построить более качественную модель: остановиться только на первых 90-а регрессорах, когда модель еще не слишком переобучена.\n",
    "\n",
    "Однако, порядок, в который выстроены регрессоры в нашей таблице - ничем не обоснован. Посмотрим, какой могла бы быть динамика метрики на тестовой выборке, при 5 других случайных порядках:"
   ]
  },
  {
   "cell_type": "code",
   "execution_count": 239,
   "metadata": {
    "collapsed": false
   },
   "outputs": [
    {
     "name": "stdout",
     "output_type": "stream",
     "text": [
      "Сколько осталось ждать: 1/5\n",
      "Сколько осталось ждать: 2/5\n",
      "Сколько осталось ждать: 3/5\n",
      "Сколько осталось ждать: 4/5\n",
      "Сколько осталось ждать: 5/5\n"
     ]
    }
   ],
   "source": [
    "lr = LinearRegression()\n",
    "import random\n",
    "orders = []\n",
    "r2testbyorder = []\n",
    "for k in range(5):\n",
    "    orders.append(random.sample(range(x_valid.shape[1]),x_valid.shape[1]))\n",
    "    r2testbyorder.append([])\n",
    "\n",
    "k = 0\n",
    "cv = cross_validation.KFold(n=x_valid.shape[0], n_folds=10, random_state=13, shuffle=True)\n",
    "\n",
    "for order in orders:\n",
    "    x_differentorder = x_valid.ix[:,order]\n",
    "    \n",
    "    for d in range(x_differentorder.shape[1]):\n",
    "        test_r2 = []\n",
    "        for train_ids, test_ids in cv:\n",
    "            lr.fit(x_differentorder.iloc[train_ids,0:d+1], y_valid.iloc[train_ids])\n",
    "            test_r2.append(lr.score(x_differentorder.iloc[test_ids,0:d+1],y_valid.iloc[test_ids]))\n",
    "        r2testbyorder[k].append(np.mean(test_r2))\n",
    "    print('Сколько осталось ждать: %s/%s' % (k+1,5))\n",
    "    k = k+1 "
   ]
  },
  {
   "cell_type": "code",
   "execution_count": 243,
   "metadata": {
    "collapsed": false
   },
   "outputs": [
    {
     "data": {
      "text/plain": [
       "<matplotlib.legend.Legend at 0x1b59bd1b940>"
      ]
     },
     "execution_count": 243,
     "metadata": {},
     "output_type": "execute_result"
    },
    {
     "data": {
      "image/png": "[encoded data removed]",
      "text/plain": [
       "<matplotlib.figure.Figure at 0x1b59c05e7b8>"
      ]
     },
     "metadata": {},
     "output_type": "display_data"
    }
   ],
   "source": [
    "plt.figure(figsize=(20, 7))\n",
    "i1 = 60\n",
    "i2 = 121\n",
    "\n",
    "for k in range(5):\n",
    "    plt.plot(range(x.shape[1])[i1:i2],r2testbyorder[k][i1:i2],label= 'order'+str(k+1))\n",
    "plt.legend()"
   ]
  },
  {
   "cell_type": "markdown",
   "metadata": {},
   "source": [
    "Мы видим, что в зависимости от конкретного порядка добавления каждого следующего регрессора, метрика модели будет по-разному сходится к итоговой метрике на всех 121 регрессорах.\n",
    "\n",
    "Видно, что набор регрессоров, на котором построена модель сильно влияет на метрику, поэтому стоит подбирать не только отпимальное $\\alpha$, но и оптимальный набор регрессоров.\n",
    "\n",
    "\n",
    "Существует некая комбинация параметров, которая способна дать наибольший $R_2$, чем другие. Правда, перебор всех комбинаций в поисках самой лучшей заставит посчитать $\\sum_{i=1}^dC_d^i$ моделей, да ещё и с кросс-валидацеий. Более того, для каждой такой комбинации существует своё оптимальное $\\alpha$. Поэтому становится очевидным, что вариант, гарантирующий нахождение этой оптимальной пары гиперпараметров займёт очень большое количество времени.\n",
    "\n",
    "Для работы с этой проблемой существуют специальные алгоритмы перебора регрессоров, о которых можно узнать [в лекциях Константина Воронцова](http://www.machinelearning.ru/wiki/images/d/de/Voron-ML-Quality-slides.pdf)."
   ]
  }
 ],
 "metadata": {
  "kernelspec": {
   "display_name": "Python [Root]",
   "language": "python",
   "name": "Python [Root]"
  },
  "language_info": {
   "codemirror_mode": {
    "name": "ipython",
    "version": 3
   },
   "file_extension": ".py",
   "mimetype": "text/x-python",
   "name": "python",
   "nbconvert_exporter": "python",
   "pygments_lexer": "ipython3",
   "version": "3.5.2"
  }
 },
 "nbformat": 4,
 "nbformat_minor": 2
}
