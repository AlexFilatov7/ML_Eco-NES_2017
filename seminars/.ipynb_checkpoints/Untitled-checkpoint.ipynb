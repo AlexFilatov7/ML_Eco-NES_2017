{
 "cells": [
  {
   "cell_type": "code",
   "execution_count": 1,
   "metadata": {
    "collapsed": true
   },
   "outputs": [],
   "source": [
    "import numpy as np\n",
    "import pandas as pd\n",
    "from matplotlib import pyplot as plt"
   ]
  },
  {
   "cell_type": "code",
   "execution_count": 4,
   "metadata": {},
   "outputs": [],
   "source": [
    "def gradient_descent(func, grad, w_0 = None, nu_0 = 0.01, max_iter = 1000):\n",
    "    if w_0 is None:\n",
    "        w_t = np.zeros(5)\n",
    "    else:\n",
    "        w_t = w_0\n",
    "    \n",
    "    for i in range(max_iter):\n",
    "        grad_t = grad(w_t)\n",
    "        \n",
    "        if np.linalg.norm(grad_t) < 1e-5:\n",
    "            break\n",
    "            \n",
    "        w_t = w_t - nu_0 * grad_t\n",
    "    \n",
    "    return w_t"
   ]
  },
  {
   "cell_type": "code",
   "execution_count": null,
   "metadata": {
    "collapsed": true
   },
   "outputs": [],
   "source": [
    "def func(X, y, w):\n",
    "    e = y - X.dot(w)\n",
    "    return (e).dot(e)"
   ]
  }
 ],
 "metadata": {
  "kernelspec": {
   "display_name": "Python 2",
   "language": "python",
   "name": "python2"
  },
  "language_info": {
   "codemirror_mode": {
    "name": "ipython",
    "version": 2
   },
   "file_extension": ".py",
   "mimetype": "text/x-python",
   "name": "python",
   "nbconvert_exporter": "python",
   "pygments_lexer": "ipython2",
   "version": "2.7.13"
  }
 },
 "nbformat": 4,
 "nbformat_minor": 2
}
